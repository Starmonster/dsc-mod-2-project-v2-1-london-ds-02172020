{
 "cells": [
  {
   "cell_type": "code",
   "execution_count": 460,
   "metadata": {},
   "outputs": [],
   "source": [
    "import pandas as pd\n",
    "import matplotlib.pyplot as plt\n",
    "import seaborn as sns\n",
    "%matplotlib inline\n",
    "\n",
    "from sklearn.model_selection import train_test_split,KFold,cross_validate\n",
    "from sklearn.linear_model import LinearRegression\n",
    "from sklearn.datasets import california_housing\n",
    "\n",
    "from scipy import stats\n",
    "import statsmodels.api as sm\n"
   ]
  },
  {
   "cell_type": "code",
   "execution_count": 461,
   "metadata": {},
   "outputs": [],
   "source": [
    "df = pd.read_csv('kc_house_data.csv')"
   ]
  },
  {
   "cell_type": "code",
   "execution_count": 462,
   "metadata": {},
   "outputs": [
    {
     "data": {
      "text/html": [
       "<div>\n",
       "<style scoped>\n",
       "    .dataframe tbody tr th:only-of-type {\n",
       "        vertical-align: middle;\n",
       "    }\n",
       "\n",
       "    .dataframe tbody tr th {\n",
       "        vertical-align: top;\n",
       "    }\n",
       "\n",
       "    .dataframe thead th {\n",
       "        text-align: right;\n",
       "    }\n",
       "</style>\n",
       "<table border=\"1\" class=\"dataframe\">\n",
       "  <thead>\n",
       "    <tr style=\"text-align: right;\">\n",
       "      <th></th>\n",
       "      <th>id</th>\n",
       "      <th>date</th>\n",
       "      <th>price</th>\n",
       "      <th>bedrooms</th>\n",
       "      <th>bathrooms</th>\n",
       "      <th>sqft_living</th>\n",
       "      <th>sqft_lot</th>\n",
       "      <th>floors</th>\n",
       "      <th>waterfront</th>\n",
       "      <th>view</th>\n",
       "      <th>...</th>\n",
       "      <th>grade</th>\n",
       "      <th>sqft_above</th>\n",
       "      <th>sqft_basement</th>\n",
       "      <th>yr_built</th>\n",
       "      <th>yr_renovated</th>\n",
       "      <th>zipcode</th>\n",
       "      <th>lat</th>\n",
       "      <th>long</th>\n",
       "      <th>sqft_living15</th>\n",
       "      <th>sqft_lot15</th>\n",
       "    </tr>\n",
       "  </thead>\n",
       "  <tbody>\n",
       "    <tr>\n",
       "      <th>0</th>\n",
       "      <td>7129300520</td>\n",
       "      <td>10/13/2014</td>\n",
       "      <td>221900.0</td>\n",
       "      <td>3</td>\n",
       "      <td>1.00</td>\n",
       "      <td>1180</td>\n",
       "      <td>5650</td>\n",
       "      <td>1.0</td>\n",
       "      <td>NaN</td>\n",
       "      <td>0.0</td>\n",
       "      <td>...</td>\n",
       "      <td>7</td>\n",
       "      <td>1180</td>\n",
       "      <td>0.0</td>\n",
       "      <td>1955</td>\n",
       "      <td>0.0</td>\n",
       "      <td>98178</td>\n",
       "      <td>47.5112</td>\n",
       "      <td>-122.257</td>\n",
       "      <td>1340</td>\n",
       "      <td>5650</td>\n",
       "    </tr>\n",
       "    <tr>\n",
       "      <th>1</th>\n",
       "      <td>6414100192</td>\n",
       "      <td>12/9/2014</td>\n",
       "      <td>538000.0</td>\n",
       "      <td>3</td>\n",
       "      <td>2.25</td>\n",
       "      <td>2570</td>\n",
       "      <td>7242</td>\n",
       "      <td>2.0</td>\n",
       "      <td>0.0</td>\n",
       "      <td>0.0</td>\n",
       "      <td>...</td>\n",
       "      <td>7</td>\n",
       "      <td>2170</td>\n",
       "      <td>400.0</td>\n",
       "      <td>1951</td>\n",
       "      <td>1991.0</td>\n",
       "      <td>98125</td>\n",
       "      <td>47.7210</td>\n",
       "      <td>-122.319</td>\n",
       "      <td>1690</td>\n",
       "      <td>7639</td>\n",
       "    </tr>\n",
       "    <tr>\n",
       "      <th>2</th>\n",
       "      <td>5631500400</td>\n",
       "      <td>2/25/2015</td>\n",
       "      <td>180000.0</td>\n",
       "      <td>2</td>\n",
       "      <td>1.00</td>\n",
       "      <td>770</td>\n",
       "      <td>10000</td>\n",
       "      <td>1.0</td>\n",
       "      <td>0.0</td>\n",
       "      <td>0.0</td>\n",
       "      <td>...</td>\n",
       "      <td>6</td>\n",
       "      <td>770</td>\n",
       "      <td>0.0</td>\n",
       "      <td>1933</td>\n",
       "      <td>NaN</td>\n",
       "      <td>98028</td>\n",
       "      <td>47.7379</td>\n",
       "      <td>-122.233</td>\n",
       "      <td>2720</td>\n",
       "      <td>8062</td>\n",
       "    </tr>\n",
       "    <tr>\n",
       "      <th>3</th>\n",
       "      <td>2487200875</td>\n",
       "      <td>12/9/2014</td>\n",
       "      <td>604000.0</td>\n",
       "      <td>4</td>\n",
       "      <td>3.00</td>\n",
       "      <td>1960</td>\n",
       "      <td>5000</td>\n",
       "      <td>1.0</td>\n",
       "      <td>0.0</td>\n",
       "      <td>0.0</td>\n",
       "      <td>...</td>\n",
       "      <td>7</td>\n",
       "      <td>1050</td>\n",
       "      <td>910.0</td>\n",
       "      <td>1965</td>\n",
       "      <td>0.0</td>\n",
       "      <td>98136</td>\n",
       "      <td>47.5208</td>\n",
       "      <td>-122.393</td>\n",
       "      <td>1360</td>\n",
       "      <td>5000</td>\n",
       "    </tr>\n",
       "    <tr>\n",
       "      <th>4</th>\n",
       "      <td>1954400510</td>\n",
       "      <td>2/18/2015</td>\n",
       "      <td>510000.0</td>\n",
       "      <td>3</td>\n",
       "      <td>2.00</td>\n",
       "      <td>1680</td>\n",
       "      <td>8080</td>\n",
       "      <td>1.0</td>\n",
       "      <td>0.0</td>\n",
       "      <td>0.0</td>\n",
       "      <td>...</td>\n",
       "      <td>8</td>\n",
       "      <td>1680</td>\n",
       "      <td>0.0</td>\n",
       "      <td>1987</td>\n",
       "      <td>0.0</td>\n",
       "      <td>98074</td>\n",
       "      <td>47.6168</td>\n",
       "      <td>-122.045</td>\n",
       "      <td>1800</td>\n",
       "      <td>7503</td>\n",
       "    </tr>\n",
       "  </tbody>\n",
       "</table>\n",
       "<p>5 rows × 21 columns</p>\n",
       "</div>"
      ],
      "text/plain": [
       "           id        date     price  bedrooms  bathrooms  sqft_living  \\\n",
       "0  7129300520  10/13/2014  221900.0         3       1.00         1180   \n",
       "1  6414100192   12/9/2014  538000.0         3       2.25         2570   \n",
       "2  5631500400   2/25/2015  180000.0         2       1.00          770   \n",
       "3  2487200875   12/9/2014  604000.0         4       3.00         1960   \n",
       "4  1954400510   2/18/2015  510000.0         3       2.00         1680   \n",
       "\n",
       "   sqft_lot  floors  waterfront  view     ...      grade  sqft_above  \\\n",
       "0      5650     1.0         NaN   0.0     ...          7        1180   \n",
       "1      7242     2.0         0.0   0.0     ...          7        2170   \n",
       "2     10000     1.0         0.0   0.0     ...          6         770   \n",
       "3      5000     1.0         0.0   0.0     ...          7        1050   \n",
       "4      8080     1.0         0.0   0.0     ...          8        1680   \n",
       "\n",
       "   sqft_basement yr_built  yr_renovated  zipcode      lat     long  \\\n",
       "0            0.0     1955           0.0    98178  47.5112 -122.257   \n",
       "1          400.0     1951        1991.0    98125  47.7210 -122.319   \n",
       "2            0.0     1933           NaN    98028  47.7379 -122.233   \n",
       "3          910.0     1965           0.0    98136  47.5208 -122.393   \n",
       "4            0.0     1987           0.0    98074  47.6168 -122.045   \n",
       "\n",
       "   sqft_living15  sqft_lot15  \n",
       "0           1340        5650  \n",
       "1           1690        7639  \n",
       "2           2720        8062  \n",
       "3           1360        5000  \n",
       "4           1800        7503  \n",
       "\n",
       "[5 rows x 21 columns]"
      ]
     },
     "execution_count": 462,
     "metadata": {},
     "output_type": "execute_result"
    }
   ],
   "source": [
    "df.head()"
   ]
  },
  {
   "cell_type": "code",
   "execution_count": 463,
   "metadata": {},
   "outputs": [
    {
     "data": {
      "text/plain": [
       "id                  0\n",
       "date                0\n",
       "price               0\n",
       "bedrooms            0\n",
       "bathrooms           0\n",
       "sqft_living         0\n",
       "sqft_lot            0\n",
       "floors              0\n",
       "waterfront       2376\n",
       "view               63\n",
       "condition           0\n",
       "grade               0\n",
       "sqft_above          0\n",
       "sqft_basement       0\n",
       "yr_built            0\n",
       "yr_renovated     3842\n",
       "zipcode             0\n",
       "lat                 0\n",
       "long                0\n",
       "sqft_living15       0\n",
       "sqft_lot15          0\n",
       "dtype: int64"
      ]
     },
     "execution_count": 463,
     "metadata": {},
     "output_type": "execute_result"
    }
   ],
   "source": [
    "df.isna().sum()"
   ]
  },
  {
   "cell_type": "code",
   "execution_count": 464,
   "metadata": {},
   "outputs": [
    {
     "data": {
      "text/plain": [
       "array([nan,  0.,  1.])"
      ]
     },
     "execution_count": 464,
     "metadata": {},
     "output_type": "execute_result"
    }
   ],
   "source": [
    "df['waterfront'].unique()"
   ]
  },
  {
   "cell_type": "code",
   "execution_count": 465,
   "metadata": {},
   "outputs": [],
   "source": [
    "df['waterfront'] = df['waterfront'].fillna(0.0)"
   ]
  },
  {
   "cell_type": "code",
   "execution_count": 466,
   "metadata": {},
   "outputs": [
    {
     "data": {
      "text/plain": [
       "0"
      ]
     },
     "execution_count": 466,
     "metadata": {},
     "output_type": "execute_result"
    }
   ],
   "source": [
    "df['waterfront'].isna().sum()"
   ]
  },
  {
   "cell_type": "code",
   "execution_count": 467,
   "metadata": {},
   "outputs": [],
   "source": [
    "#view tells us whether a property has been viewed or not. \n",
    "df.drop(columns='view', inplace=True)"
   ]
  },
  {
   "cell_type": "code",
   "execution_count": 468,
   "metadata": {},
   "outputs": [
    {
     "data": {
      "text/plain": [
       "Index(['id', 'date', 'price', 'bedrooms', 'bathrooms', 'sqft_living',\n",
       "       'sqft_lot', 'floors', 'waterfront', 'condition', 'grade', 'sqft_above',\n",
       "       'sqft_basement', 'yr_built', 'yr_renovated', 'zipcode', 'lat', 'long',\n",
       "       'sqft_living15', 'sqft_lot15'],\n",
       "      dtype='object')"
      ]
     },
     "execution_count": 468,
     "metadata": {},
     "output_type": "execute_result"
    }
   ],
   "source": [
    "#Check new column list\n",
    "df.columns"
   ]
  },
  {
   "cell_type": "code",
   "execution_count": 469,
   "metadata": {},
   "outputs": [
    {
     "data": {
      "text/plain": [
       "array([   0., 1991.,   nan, 2002., 2010., 1992., 2013., 1994., 1978.,\n",
       "       2005., 2003., 1984., 1954., 2014., 2011., 1983., 1945., 1990.,\n",
       "       1988., 1977., 1981., 1995., 2000., 1999., 1998., 1970., 1989.,\n",
       "       2004., 1986., 2007., 1987., 2006., 1985., 2001., 1980., 1971.,\n",
       "       1979., 1997., 1950., 1969., 1948., 2009., 2015., 1974., 2008.,\n",
       "       1968., 2012., 1963., 1951., 1962., 1953., 1993., 1996., 1955.,\n",
       "       1982., 1956., 1940., 1976., 1946., 1975., 1964., 1973., 1957.,\n",
       "       1959., 1960., 1967., 1965., 1934., 1972., 1944., 1958.])"
      ]
     },
     "execution_count": 469,
     "metadata": {},
     "output_type": "execute_result"
    }
   ],
   "source": [
    "df['yr_renovated'].unique()"
   ]
  },
  {
   "cell_type": "code",
   "execution_count": 470,
   "metadata": {},
   "outputs": [
    {
     "data": {
      "text/plain": [
       "3842"
      ]
     },
     "execution_count": 470,
     "metadata": {},
     "output_type": "execute_result"
    }
   ],
   "source": [
    "df['yr_renovated'].isna().sum()"
   ]
  },
  {
   "cell_type": "code",
   "execution_count": 471,
   "metadata": {},
   "outputs": [],
   "source": [
    "df['yr_renovated'] = df['yr_renovated'].fillna(0.0)"
   ]
  },
  {
   "cell_type": "code",
   "execution_count": 472,
   "metadata": {},
   "outputs": [
    {
     "data": {
      "text/plain": [
       "'1/10/2015'"
      ]
     },
     "execution_count": 472,
     "metadata": {},
     "output_type": "execute_result"
    }
   ],
   "source": [
    "df['date'].min()"
   ]
  },
  {
   "cell_type": "code",
   "execution_count": 473,
   "metadata": {},
   "outputs": [],
   "source": [
    "df.loc[(df['yr_renovated']>=2000), 'renovate_15'] = 1\n",
    "df.loc[(df['yr_renovated']<2000), 'renovate_15'] = 0"
   ]
  },
  {
   "cell_type": "code",
   "execution_count": 474,
   "metadata": {},
   "outputs": [
    {
     "data": {
      "text/plain": [
       "array([0., 1.])"
      ]
     },
     "execution_count": 474,
     "metadata": {},
     "output_type": "execute_result"
    }
   ],
   "source": [
    "df['renovate_15'].unique()"
   ]
  },
  {
   "cell_type": "code",
   "execution_count": 475,
   "metadata": {},
   "outputs": [
    {
     "data": {
      "text/plain": [
       "array([ 3,  2,  4,  5,  1,  6,  7,  8,  9, 11, 10, 33])"
      ]
     },
     "execution_count": 475,
     "metadata": {},
     "output_type": "execute_result"
    }
   ],
   "source": [
    "df['bedrooms'].unique()"
   ]
  },
  {
   "cell_type": "code",
   "execution_count": 476,
   "metadata": {},
   "outputs": [],
   "source": [
    "#outlier at bedroom = 33 should be removed as it is far higher than rest of set\n",
    "df = df[df['bedrooms']!=33]"
   ]
  },
  {
   "cell_type": "code",
   "execution_count": 477,
   "metadata": {},
   "outputs": [
    {
     "data": {
      "text/plain": [
       "array([ 3,  2,  4,  5,  1,  6,  7,  8,  9, 11, 10])"
      ]
     },
     "execution_count": 477,
     "metadata": {},
     "output_type": "execute_result"
    }
   ],
   "source": [
    "#check outlier removed\n",
    "df['bedrooms'].unique()"
   ]
  },
  {
   "cell_type": "code",
   "execution_count": 478,
   "metadata": {},
   "outputs": [
    {
     "name": "stdout",
     "output_type": "stream",
     "text": [
      "<class 'pandas.core.frame.DataFrame'>\n",
      "Int64Index: 21596 entries, 0 to 21596\n",
      "Data columns (total 21 columns):\n",
      "id               21596 non-null int64\n",
      "date             21596 non-null object\n",
      "price            21596 non-null float64\n",
      "bedrooms         21596 non-null int64\n",
      "bathrooms        21596 non-null float64\n",
      "sqft_living      21596 non-null int64\n",
      "sqft_lot         21596 non-null int64\n",
      "floors           21596 non-null float64\n",
      "waterfront       21596 non-null float64\n",
      "condition        21596 non-null int64\n",
      "grade            21596 non-null int64\n",
      "sqft_above       21596 non-null int64\n",
      "sqft_basement    21596 non-null object\n",
      "yr_built         21596 non-null int64\n",
      "yr_renovated     21596 non-null float64\n",
      "zipcode          21596 non-null int64\n",
      "lat              21596 non-null float64\n",
      "long             21596 non-null float64\n",
      "sqft_living15    21596 non-null int64\n",
      "sqft_lot15       21596 non-null int64\n",
      "renovate_15      21596 non-null float64\n",
      "dtypes: float64(8), int64(11), object(2)\n",
      "memory usage: 3.6+ MB\n"
     ]
    }
   ],
   "source": [
    "df.info()"
   ]
  },
  {
   "cell_type": "code",
   "execution_count": 479,
   "metadata": {
    "scrolled": true
   },
   "outputs": [
    {
     "data": {
      "text/plain": [
       "0.0       12826\n",
       "?           454\n",
       "600.0       217\n",
       "500.0       209\n",
       "700.0       208\n",
       "800.0       201\n",
       "400.0       184\n",
       "1000.0      148\n",
       "900.0       142\n",
       "300.0       142\n",
       "200.0       105\n",
       "750.0       104\n",
       "530.0       103\n",
       "450.0       103\n",
       "480.0       103\n",
       "720.0        98\n",
       "620.0        90\n",
       "580.0        83\n",
       "840.0        83\n",
       "420.0        81\n",
       "860.0        79\n",
       "670.0        78\n",
       "1100.0       78\n",
       "550.0        76\n",
       "780.0        76\n",
       "650.0        75\n",
       "240.0        74\n",
       "380.0        73\n",
       "680.0        73\n",
       "850.0        72\n",
       "          ...  \n",
       "2610.0        1\n",
       "225.0         1\n",
       "516.0         1\n",
       "2390.0        1\n",
       "266.0         1\n",
       "784.0         1\n",
       "2580.0        1\n",
       "2190.0        1\n",
       "792.0         1\n",
       "861.0         1\n",
       "2240.0        1\n",
       "3000.0        1\n",
       "374.0         1\n",
       "2120.0        1\n",
       "243.0         1\n",
       "2570.0        1\n",
       "1798.0        1\n",
       "2490.0        1\n",
       "295.0         1\n",
       "506.0         1\n",
       "2250.0        1\n",
       "2350.0        1\n",
       "274.0         1\n",
       "1135.0        1\n",
       "2500.0        1\n",
       "2196.0        1\n",
       "915.0         1\n",
       "652.0         1\n",
       "1548.0        1\n",
       "1281.0        1\n",
       "Name: sqft_basement, Length: 304, dtype: int64"
      ]
     },
     "execution_count": 479,
     "metadata": {},
     "output_type": "execute_result"
    }
   ],
   "source": [
    "df['sqft_basement'].value_counts()"
   ]
  },
  {
   "cell_type": "code",
   "execution_count": 480,
   "metadata": {},
   "outputs": [],
   "source": [
    "#sqft basement needs to be converted to int64 and '?' removed\n",
    "df['sqft_basement'].replace(to_replace = '?', value = '0.0', inplace=True)"
   ]
  },
  {
   "cell_type": "code",
   "execution_count": 481,
   "metadata": {
    "scrolled": true
   },
   "outputs": [
    {
     "data": {
      "text/plain": [
       "0.0       13280\n",
       "600.0       217\n",
       "500.0       209\n",
       "700.0       208\n",
       "800.0       201\n",
       "400.0       184\n",
       "1000.0      148\n",
       "900.0       142\n",
       "300.0       142\n",
       "200.0       105\n",
       "750.0       104\n",
       "450.0       103\n",
       "530.0       103\n",
       "480.0       103\n",
       "720.0        98\n",
       "620.0        90\n",
       "580.0        83\n",
       "840.0        83\n",
       "420.0        81\n",
       "860.0        79\n",
       "670.0        78\n",
       "1100.0       78\n",
       "780.0        76\n",
       "550.0        76\n",
       "650.0        75\n",
       "240.0        74\n",
       "680.0        73\n",
       "380.0        73\n",
       "360.0        72\n",
       "850.0        72\n",
       "          ...  \n",
       "2610.0        1\n",
       "225.0         1\n",
       "516.0         1\n",
       "2390.0        1\n",
       "266.0         1\n",
       "784.0         1\n",
       "2580.0        1\n",
       "2190.0        1\n",
       "792.0         1\n",
       "861.0         1\n",
       "2240.0        1\n",
       "3000.0        1\n",
       "374.0         1\n",
       "2120.0        1\n",
       "243.0         1\n",
       "2570.0        1\n",
       "1798.0        1\n",
       "2490.0        1\n",
       "295.0         1\n",
       "506.0         1\n",
       "2250.0        1\n",
       "2350.0        1\n",
       "274.0         1\n",
       "1135.0        1\n",
       "2500.0        1\n",
       "2196.0        1\n",
       "915.0         1\n",
       "652.0         1\n",
       "1548.0        1\n",
       "1281.0        1\n",
       "Name: sqft_basement, Length: 303, dtype: int64"
      ]
     },
     "execution_count": 481,
     "metadata": {},
     "output_type": "execute_result"
    }
   ],
   "source": [
    "df['sqft_basement'].value_counts()"
   ]
  },
  {
   "cell_type": "code",
   "execution_count": 482,
   "metadata": {},
   "outputs": [
    {
     "name": "stdout",
     "output_type": "stream",
     "text": [
      "<class 'pandas.core.frame.DataFrame'>\n",
      "Int64Index: 21596 entries, 0 to 21596\n",
      "Data columns (total 21 columns):\n",
      "id               21596 non-null int64\n",
      "date             21596 non-null object\n",
      "price            21596 non-null float64\n",
      "bedrooms         21596 non-null int64\n",
      "bathrooms        21596 non-null float64\n",
      "sqft_living      21596 non-null int64\n",
      "sqft_lot         21596 non-null int64\n",
      "floors           21596 non-null float64\n",
      "waterfront       21596 non-null float64\n",
      "condition        21596 non-null int64\n",
      "grade            21596 non-null int64\n",
      "sqft_above       21596 non-null int64\n",
      "sqft_basement    21596 non-null object\n",
      "yr_built         21596 non-null int64\n",
      "yr_renovated     21596 non-null float64\n",
      "zipcode          21596 non-null int64\n",
      "lat              21596 non-null float64\n",
      "long             21596 non-null float64\n",
      "sqft_living15    21596 non-null int64\n",
      "sqft_lot15       21596 non-null int64\n",
      "renovate_15      21596 non-null float64\n",
      "dtypes: float64(8), int64(11), object(2)\n",
      "memory usage: 3.6+ MB\n"
     ]
    }
   ],
   "source": [
    "df.info()"
   ]
  },
  {
   "cell_type": "code",
   "execution_count": 483,
   "metadata": {},
   "outputs": [],
   "source": [
    "df['sqft_basement'] = df['sqft_basement'].astype(float)"
   ]
  },
  {
   "cell_type": "code",
   "execution_count": 484,
   "metadata": {},
   "outputs": [
    {
     "name": "stdout",
     "output_type": "stream",
     "text": [
      "<class 'pandas.core.frame.DataFrame'>\n",
      "Int64Index: 21596 entries, 0 to 21596\n",
      "Data columns (total 21 columns):\n",
      "id               21596 non-null int64\n",
      "date             21596 non-null object\n",
      "price            21596 non-null float64\n",
      "bedrooms         21596 non-null int64\n",
      "bathrooms        21596 non-null float64\n",
      "sqft_living      21596 non-null int64\n",
      "sqft_lot         21596 non-null int64\n",
      "floors           21596 non-null float64\n",
      "waterfront       21596 non-null float64\n",
      "condition        21596 non-null int64\n",
      "grade            21596 non-null int64\n",
      "sqft_above       21596 non-null int64\n",
      "sqft_basement    21596 non-null float64\n",
      "yr_built         21596 non-null int64\n",
      "yr_renovated     21596 non-null float64\n",
      "zipcode          21596 non-null int64\n",
      "lat              21596 non-null float64\n",
      "long             21596 non-null float64\n",
      "sqft_living15    21596 non-null int64\n",
      "sqft_lot15       21596 non-null int64\n",
      "renovate_15      21596 non-null float64\n",
      "dtypes: float64(9), int64(11), object(1)\n",
      "memory usage: 3.6+ MB\n"
     ]
    }
   ],
   "source": [
    "df.info()"
   ]
  },
  {
   "cell_type": "code",
   "execution_count": 308,
   "metadata": {},
   "outputs": [],
   "source": [
    "#option to make basement a binary option 1 = propert has basement, 0 = no basement"
   ]
  },
  {
   "cell_type": "markdown",
   "metadata": {},
   "source": [
    "In the following two cells we set up our data split for furture train and test methods"
   ]
  },
  {
   "cell_type": "code",
   "execution_count": 309,
   "metadata": {},
   "outputs": [],
   "source": [
    "#df, df_test, target, target_test = train_test_split(df, target, test_size=0.2, random_state=42)"
   ]
  },
  {
   "cell_type": "code",
   "execution_count": 310,
   "metadata": {},
   "outputs": [
    {
     "data": {
      "text/html": [
       "<div>\n",
       "<style scoped>\n",
       "    .dataframe tbody tr th:only-of-type {\n",
       "        vertical-align: middle;\n",
       "    }\n",
       "\n",
       "    .dataframe tbody tr th {\n",
       "        vertical-align: top;\n",
       "    }\n",
       "\n",
       "    .dataframe thead th {\n",
       "        text-align: right;\n",
       "    }\n",
       "</style>\n",
       "<table border=\"1\" class=\"dataframe\">\n",
       "  <thead>\n",
       "    <tr style=\"text-align: right;\">\n",
       "      <th></th>\n",
       "      <th>id</th>\n",
       "      <th>price</th>\n",
       "      <th>bedrooms</th>\n",
       "      <th>bathrooms</th>\n",
       "      <th>sqft_living</th>\n",
       "      <th>sqft_lot</th>\n",
       "      <th>floors</th>\n",
       "      <th>waterfront</th>\n",
       "      <th>condition</th>\n",
       "      <th>grade</th>\n",
       "      <th>sqft_above</th>\n",
       "      <th>sqft_basement</th>\n",
       "      <th>yr_built</th>\n",
       "      <th>yr_renovated</th>\n",
       "      <th>zipcode</th>\n",
       "      <th>lat</th>\n",
       "      <th>long</th>\n",
       "      <th>sqft_living15</th>\n",
       "      <th>sqft_lot15</th>\n",
       "      <th>renovate_15</th>\n",
       "    </tr>\n",
       "  </thead>\n",
       "  <tbody>\n",
       "    <tr>\n",
       "      <th>id</th>\n",
       "      <td>1.000000</td>\n",
       "      <td>-0.016763</td>\n",
       "      <td>0.002328</td>\n",
       "      <td>0.005145</td>\n",
       "      <td>-0.012258</td>\n",
       "      <td>-0.131920</td>\n",
       "      <td>0.018576</td>\n",
       "      <td>-0.003602</td>\n",
       "      <td>-0.023721</td>\n",
       "      <td>0.008169</td>\n",
       "      <td>-0.010831</td>\n",
       "      <td>-0.004336</td>\n",
       "      <td>0.021589</td>\n",
       "      <td>-0.010619</td>\n",
       "      <td>-0.008195</td>\n",
       "      <td>-0.001766</td>\n",
       "      <td>0.020643</td>\n",
       "      <td>-0.002734</td>\n",
       "      <td>-0.138570</td>\n",
       "      <td>-0.008119</td>\n",
       "    </tr>\n",
       "    <tr>\n",
       "      <th>price</th>\n",
       "      <td>-0.016763</td>\n",
       "      <td>1.000000</td>\n",
       "      <td>0.315961</td>\n",
       "      <td>0.525915</td>\n",
       "      <td>0.701929</td>\n",
       "      <td>0.089879</td>\n",
       "      <td>0.256820</td>\n",
       "      <td>0.264308</td>\n",
       "      <td>0.036031</td>\n",
       "      <td>0.667964</td>\n",
       "      <td>0.605392</td>\n",
       "      <td>0.321103</td>\n",
       "      <td>0.053965</td>\n",
       "      <td>0.117858</td>\n",
       "      <td>-0.053409</td>\n",
       "      <td>0.306687</td>\n",
       "      <td>0.022047</td>\n",
       "      <td>0.585267</td>\n",
       "      <td>0.082849</td>\n",
       "      <td>0.106006</td>\n",
       "    </tr>\n",
       "    <tr>\n",
       "      <th>bedrooms</th>\n",
       "      <td>0.002328</td>\n",
       "      <td>0.315961</td>\n",
       "      <td>1.000000</td>\n",
       "      <td>0.527870</td>\n",
       "      <td>0.593178</td>\n",
       "      <td>0.033602</td>\n",
       "      <td>0.183707</td>\n",
       "      <td>-0.002054</td>\n",
       "      <td>0.023440</td>\n",
       "      <td>0.366174</td>\n",
       "      <td>0.492543</td>\n",
       "      <td>0.303517</td>\n",
       "      <td>0.160736</td>\n",
       "      <td>0.018626</td>\n",
       "      <td>-0.158588</td>\n",
       "      <td>-0.011595</td>\n",
       "      <td>0.136561</td>\n",
       "      <td>0.404532</td>\n",
       "      <td>0.031892</td>\n",
       "      <td>0.033965</td>\n",
       "    </tr>\n",
       "    <tr>\n",
       "      <th>bathrooms</th>\n",
       "      <td>0.005145</td>\n",
       "      <td>0.525915</td>\n",
       "      <td>0.527870</td>\n",
       "      <td>1.000000</td>\n",
       "      <td>0.755755</td>\n",
       "      <td>0.088368</td>\n",
       "      <td>0.502574</td>\n",
       "      <td>0.063628</td>\n",
       "      <td>-0.126443</td>\n",
       "      <td>0.665834</td>\n",
       "      <td>0.686664</td>\n",
       "      <td>0.278504</td>\n",
       "      <td>0.507166</td>\n",
       "      <td>0.047173</td>\n",
       "      <td>-0.204778</td>\n",
       "      <td>0.024301</td>\n",
       "      <td>0.224889</td>\n",
       "      <td>0.569878</td>\n",
       "      <td>0.088297</td>\n",
       "      <td>0.063788</td>\n",
       "    </tr>\n",
       "    <tr>\n",
       "      <th>sqft_living</th>\n",
       "      <td>-0.012258</td>\n",
       "      <td>0.701929</td>\n",
       "      <td>0.593178</td>\n",
       "      <td>0.755755</td>\n",
       "      <td>1.000000</td>\n",
       "      <td>0.173449</td>\n",
       "      <td>0.353941</td>\n",
       "      <td>0.104635</td>\n",
       "      <td>-0.059397</td>\n",
       "      <td>0.762776</td>\n",
       "      <td>0.876448</td>\n",
       "      <td>0.428683</td>\n",
       "      <td>0.318140</td>\n",
       "      <td>0.051056</td>\n",
       "      <td>-0.199793</td>\n",
       "      <td>0.052178</td>\n",
       "      <td>0.241200</td>\n",
       "      <td>0.756400</td>\n",
       "      <td>0.184337</td>\n",
       "      <td>0.051032</td>\n",
       "    </tr>\n",
       "    <tr>\n",
       "      <th>sqft_lot</th>\n",
       "      <td>-0.131920</td>\n",
       "      <td>0.089879</td>\n",
       "      <td>0.033602</td>\n",
       "      <td>0.088368</td>\n",
       "      <td>0.173449</td>\n",
       "      <td>1.000000</td>\n",
       "      <td>-0.004824</td>\n",
       "      <td>0.021458</td>\n",
       "      <td>-0.008806</td>\n",
       "      <td>0.114726</td>\n",
       "      <td>0.184134</td>\n",
       "      <td>0.015038</td>\n",
       "      <td>0.052939</td>\n",
       "      <td>0.004977</td>\n",
       "      <td>-0.129582</td>\n",
       "      <td>-0.085507</td>\n",
       "      <td>0.230222</td>\n",
       "      <td>0.144756</td>\n",
       "      <td>0.718203</td>\n",
       "      <td>-0.013416</td>\n",
       "    </tr>\n",
       "    <tr>\n",
       "      <th>floors</th>\n",
       "      <td>0.018576</td>\n",
       "      <td>0.256820</td>\n",
       "      <td>0.183707</td>\n",
       "      <td>0.502574</td>\n",
       "      <td>0.353941</td>\n",
       "      <td>-0.004824</td>\n",
       "      <td>1.000000</td>\n",
       "      <td>0.020794</td>\n",
       "      <td>-0.264013</td>\n",
       "      <td>0.458783</td>\n",
       "      <td>0.523970</td>\n",
       "      <td>-0.241845</td>\n",
       "      <td>0.489175</td>\n",
       "      <td>0.003785</td>\n",
       "      <td>-0.059522</td>\n",
       "      <td>0.049280</td>\n",
       "      <td>0.125912</td>\n",
       "      <td>0.280072</td>\n",
       "      <td>-0.010734</td>\n",
       "      <td>0.004070</td>\n",
       "    </tr>\n",
       "    <tr>\n",
       "      <th>waterfront</th>\n",
       "      <td>-0.003602</td>\n",
       "      <td>0.264308</td>\n",
       "      <td>-0.002054</td>\n",
       "      <td>0.063628</td>\n",
       "      <td>0.104635</td>\n",
       "      <td>0.021458</td>\n",
       "      <td>0.020794</td>\n",
       "      <td>1.000000</td>\n",
       "      <td>0.016659</td>\n",
       "      <td>0.082817</td>\n",
       "      <td>0.071776</td>\n",
       "      <td>0.083053</td>\n",
       "      <td>-0.024491</td>\n",
       "      <td>0.073938</td>\n",
       "      <td>0.028925</td>\n",
       "      <td>-0.012154</td>\n",
       "      <td>-0.037632</td>\n",
       "      <td>0.083822</td>\n",
       "      <td>0.030657</td>\n",
       "      <td>0.014794</td>\n",
       "    </tr>\n",
       "    <tr>\n",
       "      <th>condition</th>\n",
       "      <td>-0.023721</td>\n",
       "      <td>0.036031</td>\n",
       "      <td>0.023440</td>\n",
       "      <td>-0.126443</td>\n",
       "      <td>-0.059397</td>\n",
       "      <td>-0.008806</td>\n",
       "      <td>-0.264013</td>\n",
       "      <td>0.016659</td>\n",
       "      <td>1.000000</td>\n",
       "      <td>-0.146854</td>\n",
       "      <td>-0.158826</td>\n",
       "      <td>0.168431</td>\n",
       "      <td>-0.361555</td>\n",
       "      <td>-0.055795</td>\n",
       "      <td>0.002835</td>\n",
       "      <td>-0.015209</td>\n",
       "      <td>-0.105800</td>\n",
       "      <td>-0.092979</td>\n",
       "      <td>-0.003093</td>\n",
       "      <td>-0.072809</td>\n",
       "    </tr>\n",
       "    <tr>\n",
       "      <th>grade</th>\n",
       "      <td>0.008169</td>\n",
       "      <td>0.667964</td>\n",
       "      <td>0.366174</td>\n",
       "      <td>0.665834</td>\n",
       "      <td>0.762776</td>\n",
       "      <td>0.114726</td>\n",
       "      <td>0.458783</td>\n",
       "      <td>0.082817</td>\n",
       "      <td>-0.146854</td>\n",
       "      <td>1.000000</td>\n",
       "      <td>0.756069</td>\n",
       "      <td>0.165863</td>\n",
       "      <td>0.447854</td>\n",
       "      <td>0.015618</td>\n",
       "      <td>-0.185761</td>\n",
       "      <td>0.113602</td>\n",
       "      <td>0.200324</td>\n",
       "      <td>0.713863</td>\n",
       "      <td>0.120974</td>\n",
       "      <td>0.035661</td>\n",
       "    </tr>\n",
       "    <tr>\n",
       "      <th>sqft_above</th>\n",
       "      <td>-0.010831</td>\n",
       "      <td>0.605392</td>\n",
       "      <td>0.492543</td>\n",
       "      <td>0.686664</td>\n",
       "      <td>0.876448</td>\n",
       "      <td>0.184134</td>\n",
       "      <td>0.523970</td>\n",
       "      <td>0.071776</td>\n",
       "      <td>-0.158826</td>\n",
       "      <td>0.756069</td>\n",
       "      <td>1.000000</td>\n",
       "      <td>-0.051149</td>\n",
       "      <td>0.424017</td>\n",
       "      <td>0.020637</td>\n",
       "      <td>-0.261557</td>\n",
       "      <td>-0.001160</td>\n",
       "      <td>0.344819</td>\n",
       "      <td>0.731756</td>\n",
       "      <td>0.195069</td>\n",
       "      <td>0.015916</td>\n",
       "    </tr>\n",
       "    <tr>\n",
       "      <th>sqft_basement</th>\n",
       "      <td>-0.004336</td>\n",
       "      <td>0.321103</td>\n",
       "      <td>0.303517</td>\n",
       "      <td>0.278504</td>\n",
       "      <td>0.428683</td>\n",
       "      <td>0.015038</td>\n",
       "      <td>-0.241845</td>\n",
       "      <td>0.083053</td>\n",
       "      <td>0.168431</td>\n",
       "      <td>0.165863</td>\n",
       "      <td>-0.051149</td>\n",
       "      <td>1.000000</td>\n",
       "      <td>-0.130063</td>\n",
       "      <td>0.065014</td>\n",
       "      <td>0.073257</td>\n",
       "      <td>0.109828</td>\n",
       "      <td>-0.142347</td>\n",
       "      <td>0.199324</td>\n",
       "      <td>0.015894</td>\n",
       "      <td>0.075474</td>\n",
       "    </tr>\n",
       "    <tr>\n",
       "      <th>yr_built</th>\n",
       "      <td>0.021589</td>\n",
       "      <td>0.053965</td>\n",
       "      <td>0.160736</td>\n",
       "      <td>0.507166</td>\n",
       "      <td>0.318140</td>\n",
       "      <td>0.052939</td>\n",
       "      <td>0.489175</td>\n",
       "      <td>-0.024491</td>\n",
       "      <td>-0.361555</td>\n",
       "      <td>0.447854</td>\n",
       "      <td>0.424017</td>\n",
       "      <td>-0.130063</td>\n",
       "      <td>1.000000</td>\n",
       "      <td>-0.202565</td>\n",
       "      <td>-0.347199</td>\n",
       "      <td>-0.148340</td>\n",
       "      <td>0.409974</td>\n",
       "      <td>0.326353</td>\n",
       "      <td>0.070767</td>\n",
       "      <td>-0.126549</td>\n",
       "    </tr>\n",
       "    <tr>\n",
       "      <th>yr_renovated</th>\n",
       "      <td>-0.010619</td>\n",
       "      <td>0.117858</td>\n",
       "      <td>0.018626</td>\n",
       "      <td>0.047173</td>\n",
       "      <td>0.051056</td>\n",
       "      <td>0.004977</td>\n",
       "      <td>0.003785</td>\n",
       "      <td>0.073938</td>\n",
       "      <td>-0.055795</td>\n",
       "      <td>0.015618</td>\n",
       "      <td>0.020637</td>\n",
       "      <td>0.065014</td>\n",
       "      <td>-0.202565</td>\n",
       "      <td>1.000000</td>\n",
       "      <td>0.062402</td>\n",
       "      <td>0.027979</td>\n",
       "      <td>-0.064551</td>\n",
       "      <td>0.000675</td>\n",
       "      <td>0.004283</td>\n",
       "      <td>0.711935</td>\n",
       "    </tr>\n",
       "    <tr>\n",
       "      <th>zipcode</th>\n",
       "      <td>-0.008195</td>\n",
       "      <td>-0.053409</td>\n",
       "      <td>-0.158588</td>\n",
       "      <td>-0.204778</td>\n",
       "      <td>-0.199793</td>\n",
       "      <td>-0.129582</td>\n",
       "      <td>-0.059522</td>\n",
       "      <td>0.028925</td>\n",
       "      <td>0.002835</td>\n",
       "      <td>-0.185761</td>\n",
       "      <td>-0.261557</td>\n",
       "      <td>0.073257</td>\n",
       "      <td>-0.347199</td>\n",
       "      <td>0.062402</td>\n",
       "      <td>1.000000</td>\n",
       "      <td>0.266729</td>\n",
       "      <td>-0.564253</td>\n",
       "      <td>-0.279286</td>\n",
       "      <td>-0.147288</td>\n",
       "      <td>0.048289</td>\n",
       "    </tr>\n",
       "    <tr>\n",
       "      <th>lat</th>\n",
       "      <td>-0.001766</td>\n",
       "      <td>0.306687</td>\n",
       "      <td>-0.011595</td>\n",
       "      <td>0.024301</td>\n",
       "      <td>0.052178</td>\n",
       "      <td>-0.085507</td>\n",
       "      <td>0.049280</td>\n",
       "      <td>-0.012154</td>\n",
       "      <td>-0.015209</td>\n",
       "      <td>0.113602</td>\n",
       "      <td>-0.001160</td>\n",
       "      <td>0.109828</td>\n",
       "      <td>-0.148340</td>\n",
       "      <td>0.027979</td>\n",
       "      <td>0.266729</td>\n",
       "      <td>1.000000</td>\n",
       "      <td>-0.135340</td>\n",
       "      <td>0.048721</td>\n",
       "      <td>-0.086129</td>\n",
       "      <td>0.028012</td>\n",
       "    </tr>\n",
       "    <tr>\n",
       "      <th>long</th>\n",
       "      <td>0.020643</td>\n",
       "      <td>0.022047</td>\n",
       "      <td>0.136561</td>\n",
       "      <td>0.224889</td>\n",
       "      <td>0.241200</td>\n",
       "      <td>0.230222</td>\n",
       "      <td>0.125912</td>\n",
       "      <td>-0.037632</td>\n",
       "      <td>-0.105800</td>\n",
       "      <td>0.200324</td>\n",
       "      <td>0.344819</td>\n",
       "      <td>-0.142347</td>\n",
       "      <td>0.409974</td>\n",
       "      <td>-0.064551</td>\n",
       "      <td>-0.564253</td>\n",
       "      <td>-0.135340</td>\n",
       "      <td>1.000000</td>\n",
       "      <td>0.335601</td>\n",
       "      <td>0.255579</td>\n",
       "      <td>-0.054129</td>\n",
       "    </tr>\n",
       "    <tr>\n",
       "      <th>sqft_living15</th>\n",
       "      <td>-0.002734</td>\n",
       "      <td>0.585267</td>\n",
       "      <td>0.404532</td>\n",
       "      <td>0.569878</td>\n",
       "      <td>0.756400</td>\n",
       "      <td>0.144756</td>\n",
       "      <td>0.280072</td>\n",
       "      <td>0.083822</td>\n",
       "      <td>-0.092979</td>\n",
       "      <td>0.713863</td>\n",
       "      <td>0.731756</td>\n",
       "      <td>0.199324</td>\n",
       "      <td>0.326353</td>\n",
       "      <td>0.000675</td>\n",
       "      <td>-0.279286</td>\n",
       "      <td>0.048721</td>\n",
       "      <td>0.335601</td>\n",
       "      <td>1.000000</td>\n",
       "      <td>0.183506</td>\n",
       "      <td>-0.000945</td>\n",
       "    </tr>\n",
       "    <tr>\n",
       "      <th>sqft_lot15</th>\n",
       "      <td>-0.138570</td>\n",
       "      <td>0.082849</td>\n",
       "      <td>0.031892</td>\n",
       "      <td>0.088297</td>\n",
       "      <td>0.184337</td>\n",
       "      <td>0.718203</td>\n",
       "      <td>-0.010734</td>\n",
       "      <td>0.030657</td>\n",
       "      <td>-0.003093</td>\n",
       "      <td>0.120974</td>\n",
       "      <td>0.195069</td>\n",
       "      <td>0.015894</td>\n",
       "      <td>0.070767</td>\n",
       "      <td>0.004283</td>\n",
       "      <td>-0.147288</td>\n",
       "      <td>-0.086129</td>\n",
       "      <td>0.255579</td>\n",
       "      <td>0.183506</td>\n",
       "      <td>1.000000</td>\n",
       "      <td>-0.015125</td>\n",
       "    </tr>\n",
       "    <tr>\n",
       "      <th>renovate_15</th>\n",
       "      <td>-0.008119</td>\n",
       "      <td>0.106006</td>\n",
       "      <td>0.033965</td>\n",
       "      <td>0.063788</td>\n",
       "      <td>0.051032</td>\n",
       "      <td>-0.013416</td>\n",
       "      <td>0.004070</td>\n",
       "      <td>0.014794</td>\n",
       "      <td>-0.072809</td>\n",
       "      <td>0.035661</td>\n",
       "      <td>0.015916</td>\n",
       "      <td>0.075474</td>\n",
       "      <td>-0.126549</td>\n",
       "      <td>0.711935</td>\n",
       "      <td>0.048289</td>\n",
       "      <td>0.028012</td>\n",
       "      <td>-0.054129</td>\n",
       "      <td>-0.000945</td>\n",
       "      <td>-0.015125</td>\n",
       "      <td>1.000000</td>\n",
       "    </tr>\n",
       "  </tbody>\n",
       "</table>\n",
       "</div>"
      ],
      "text/plain": [
       "                     id     price  bedrooms  bathrooms  sqft_living  sqft_lot  \\\n",
       "id             1.000000 -0.016763  0.002328   0.005145    -0.012258 -0.131920   \n",
       "price         -0.016763  1.000000  0.315961   0.525915     0.701929  0.089879   \n",
       "bedrooms       0.002328  0.315961  1.000000   0.527870     0.593178  0.033602   \n",
       "bathrooms      0.005145  0.525915  0.527870   1.000000     0.755755  0.088368   \n",
       "sqft_living   -0.012258  0.701929  0.593178   0.755755     1.000000  0.173449   \n",
       "sqft_lot      -0.131920  0.089879  0.033602   0.088368     0.173449  1.000000   \n",
       "floors         0.018576  0.256820  0.183707   0.502574     0.353941 -0.004824   \n",
       "waterfront    -0.003602  0.264308 -0.002054   0.063628     0.104635  0.021458   \n",
       "condition     -0.023721  0.036031  0.023440  -0.126443    -0.059397 -0.008806   \n",
       "grade          0.008169  0.667964  0.366174   0.665834     0.762776  0.114726   \n",
       "sqft_above    -0.010831  0.605392  0.492543   0.686664     0.876448  0.184134   \n",
       "sqft_basement -0.004336  0.321103  0.303517   0.278504     0.428683  0.015038   \n",
       "yr_built       0.021589  0.053965  0.160736   0.507166     0.318140  0.052939   \n",
       "yr_renovated  -0.010619  0.117858  0.018626   0.047173     0.051056  0.004977   \n",
       "zipcode       -0.008195 -0.053409 -0.158588  -0.204778    -0.199793 -0.129582   \n",
       "lat           -0.001766  0.306687 -0.011595   0.024301     0.052178 -0.085507   \n",
       "long           0.020643  0.022047  0.136561   0.224889     0.241200  0.230222   \n",
       "sqft_living15 -0.002734  0.585267  0.404532   0.569878     0.756400  0.144756   \n",
       "sqft_lot15    -0.138570  0.082849  0.031892   0.088297     0.184337  0.718203   \n",
       "renovate_15   -0.008119  0.106006  0.033965   0.063788     0.051032 -0.013416   \n",
       "\n",
       "                 floors  waterfront  condition     grade  sqft_above  \\\n",
       "id             0.018576   -0.003602  -0.023721  0.008169   -0.010831   \n",
       "price          0.256820    0.264308   0.036031  0.667964    0.605392   \n",
       "bedrooms       0.183707   -0.002054   0.023440  0.366174    0.492543   \n",
       "bathrooms      0.502574    0.063628  -0.126443  0.665834    0.686664   \n",
       "sqft_living    0.353941    0.104635  -0.059397  0.762776    0.876448   \n",
       "sqft_lot      -0.004824    0.021458  -0.008806  0.114726    0.184134   \n",
       "floors         1.000000    0.020794  -0.264013  0.458783    0.523970   \n",
       "waterfront     0.020794    1.000000   0.016659  0.082817    0.071776   \n",
       "condition     -0.264013    0.016659   1.000000 -0.146854   -0.158826   \n",
       "grade          0.458783    0.082817  -0.146854  1.000000    0.756069   \n",
       "sqft_above     0.523970    0.071776  -0.158826  0.756069    1.000000   \n",
       "sqft_basement -0.241845    0.083053   0.168431  0.165863   -0.051149   \n",
       "yr_built       0.489175   -0.024491  -0.361555  0.447854    0.424017   \n",
       "yr_renovated   0.003785    0.073938  -0.055795  0.015618    0.020637   \n",
       "zipcode       -0.059522    0.028925   0.002835 -0.185761   -0.261557   \n",
       "lat            0.049280   -0.012154  -0.015209  0.113602   -0.001160   \n",
       "long           0.125912   -0.037632  -0.105800  0.200324    0.344819   \n",
       "sqft_living15  0.280072    0.083822  -0.092979  0.713863    0.731756   \n",
       "sqft_lot15    -0.010734    0.030657  -0.003093  0.120974    0.195069   \n",
       "renovate_15    0.004070    0.014794  -0.072809  0.035661    0.015916   \n",
       "\n",
       "               sqft_basement  yr_built  yr_renovated   zipcode       lat  \\\n",
       "id                 -0.004336  0.021589     -0.010619 -0.008195 -0.001766   \n",
       "price               0.321103  0.053965      0.117858 -0.053409  0.306687   \n",
       "bedrooms            0.303517  0.160736      0.018626 -0.158588 -0.011595   \n",
       "bathrooms           0.278504  0.507166      0.047173 -0.204778  0.024301   \n",
       "sqft_living         0.428683  0.318140      0.051056 -0.199793  0.052178   \n",
       "sqft_lot            0.015038  0.052939      0.004977 -0.129582 -0.085507   \n",
       "floors             -0.241845  0.489175      0.003785 -0.059522  0.049280   \n",
       "waterfront          0.083053 -0.024491      0.073938  0.028925 -0.012154   \n",
       "condition           0.168431 -0.361555     -0.055795  0.002835 -0.015209   \n",
       "grade               0.165863  0.447854      0.015618 -0.185761  0.113602   \n",
       "sqft_above         -0.051149  0.424017      0.020637 -0.261557 -0.001160   \n",
       "sqft_basement       1.000000 -0.130063      0.065014  0.073257  0.109828   \n",
       "yr_built           -0.130063  1.000000     -0.202565 -0.347199 -0.148340   \n",
       "yr_renovated        0.065014 -0.202565      1.000000  0.062402  0.027979   \n",
       "zipcode             0.073257 -0.347199      0.062402  1.000000  0.266729   \n",
       "lat                 0.109828 -0.148340      0.027979  0.266729  1.000000   \n",
       "long               -0.142347  0.409974     -0.064551 -0.564253 -0.135340   \n",
       "sqft_living15       0.199324  0.326353      0.000675 -0.279286  0.048721   \n",
       "sqft_lot15          0.015894  0.070767      0.004283 -0.147288 -0.086129   \n",
       "renovate_15         0.075474 -0.126549      0.711935  0.048289  0.028012   \n",
       "\n",
       "                   long  sqft_living15  sqft_lot15  renovate_15  \n",
       "id             0.020643      -0.002734   -0.138570    -0.008119  \n",
       "price          0.022047       0.585267    0.082849     0.106006  \n",
       "bedrooms       0.136561       0.404532    0.031892     0.033965  \n",
       "bathrooms      0.224889       0.569878    0.088297     0.063788  \n",
       "sqft_living    0.241200       0.756400    0.184337     0.051032  \n",
       "sqft_lot       0.230222       0.144756    0.718203    -0.013416  \n",
       "floors         0.125912       0.280072   -0.010734     0.004070  \n",
       "waterfront    -0.037632       0.083822    0.030657     0.014794  \n",
       "condition     -0.105800      -0.092979   -0.003093    -0.072809  \n",
       "grade          0.200324       0.713863    0.120974     0.035661  \n",
       "sqft_above     0.344819       0.731756    0.195069     0.015916  \n",
       "sqft_basement -0.142347       0.199324    0.015894     0.075474  \n",
       "yr_built       0.409974       0.326353    0.070767    -0.126549  \n",
       "yr_renovated  -0.064551       0.000675    0.004283     0.711935  \n",
       "zipcode       -0.564253      -0.279286   -0.147288     0.048289  \n",
       "lat           -0.135340       0.048721   -0.086129     0.028012  \n",
       "long           1.000000       0.335601    0.255579    -0.054129  \n",
       "sqft_living15  0.335601       1.000000    0.183506    -0.000945  \n",
       "sqft_lot15     0.255579       0.183506    1.000000    -0.015125  \n",
       "renovate_15   -0.054129      -0.000945   -0.015125     1.000000  "
      ]
     },
     "execution_count": 310,
     "metadata": {},
     "output_type": "execute_result"
    }
   ],
   "source": [
    "df.corr()"
   ]
  },
  {
   "cell_type": "code",
   "execution_count": 311,
   "metadata": {},
   "outputs": [
    {
     "data": {
      "image/png": "[encoded data removed]",
      "text/plain": [
       "<Figure size 1440x1296 with 20 Axes>"
      ]
     },
     "metadata": {
      "needs_background": "light"
     },
     "output_type": "display_data"
    }
   ],
   "source": [
    "df.hist(figsize=(20,18));"
   ]
  },
  {
   "cell_type": "code",
   "execution_count": 312,
   "metadata": {},
   "outputs": [],
   "source": [
    "import warnings\n",
    "warnings.filterwarnings('ignore')"
   ]
  },
  {
   "cell_type": "code",
   "execution_count": 314,
   "metadata": {},
   "outputs": [
    {
     "data": {
      "image/png": "[encoded data removed]",
      "text/plain": [
       "<Figure size 432x432 with 3 Axes>"
      ]
     },
     "metadata": {
      "needs_background": "light"
     },
     "output_type": "display_data"
    },
    {
     "data": {
      "image/png": "[encoded data removed]",
      "text/plain": [
       "<Figure size 432x432 with 3 Axes>"
      ]
     },
     "metadata": {
      "needs_background": "light"
     },
     "output_type": "display_data"
    },
    {
     "data": {
      "image/png": "[encoded data removed]",
      "text/plain": [
       "<Figure size 432x288 with 6 Axes>"
      ]
     },
     "metadata": {
      "needs_background": "light"
     },
     "output_type": "display_data"
    }
   ],
   "source": [
    "bedplt = sns.jointplot('bedrooms', 'price', data=df, kind='reg');\n",
    "conplt = sns.jointplot('condition', 'price', data=df, kind='reg');\n",
    "\n",
    "f = plt.figure()\n",
    "for j in [bedplt, conplt]:\n",
    "    for i in j.fig.axes:\n",
    "        f._axstack.add(f._make_key(i), i)\n",
    "\n",
    "f.axes[0].set_position([0.05, 0.05, 0.4,  0.4])\n",
    "f.axes[1].set_position([0.05, 0.45, 0.4,  0.05])\n",
    "f.axes[2].set_position([0.45, 0.05, 0.05, 0.4])\n",
    "f.axes[3].set_position([0.55, 0.05, 0.4,  0.4])\n",
    "f.axes[4].set_position([0.55, 0.45, 0.4,  0.05])\n",
    "f.axes[5].set_position([0.95, 0.05, 0.05, 0.4])"
   ]
  },
  {
   "cell_type": "code",
   "execution_count": 317,
   "metadata": {},
   "outputs": [
    {
     "data": {
      "image/png": "[encoded data removed]",
      "text/plain": [
       "<Figure size 432x432 with 3 Axes>"
      ]
     },
     "metadata": {
      "needs_background": "light"
     },
     "output_type": "display_data"
    }
   ],
   "source": [
    "sns.jointplot('grade', 'price', data=df, kind='reg');"
   ]
  },
  {
   "cell_type": "code",
   "execution_count": 322,
   "metadata": {},
   "outputs": [
    {
     "data": {
      "image/png": "[encoded data removed]",
      "text/plain": [
       "<Figure size 432x432 with 3 Axes>"
      ]
     },
     "metadata": {
      "needs_background": "light"
     },
     "output_type": "display_data"
    }
   ],
   "source": [
    "sns.jointplot('sqft_basement', 'price', data=df, kind='reg');"
   ]
  },
  {
   "cell_type": "code",
   "execution_count": 323,
   "metadata": {},
   "outputs": [
    {
     "data": {
      "image/png": "[encoded data removed]",
      "text/plain": [
       "<Figure size 432x432 with 3 Axes>"
      ]
     },
     "metadata": {
      "needs_background": "light"
     },
     "output_type": "display_data"
    }
   ],
   "source": [
    "sns.jointplot('sqft_living', 'price', data=df, kind='reg');"
   ]
  },
  {
   "cell_type": "code",
   "execution_count": 389,
   "metadata": {},
   "outputs": [],
   "source": [
    "features = ['bathrooms', 'bedrooms', 'grade', 'sqft_above', 'sqft_basement', \n",
    "              'sqft_living', 'sqft_living15', 'sqft_lot15']\n",
    "corr_df = df[feat].corr()"
   ]
  },
  {
   "cell_type": "code",
   "execution_count": 391,
   "metadata": {},
   "outputs": [
    {
     "data": {
      "image/png": "[encoded data removed]",
      "text/plain": [
       "<Figure size 720x576 with 2 Axes>"
      ]
     },
     "metadata": {
      "needs_background": "light"
     },
     "output_type": "display_data"
    }
   ],
   "source": [
    "fig, ax = plt.subplots(figsize=(10,8))\n",
    "sns.heatmap(corr_df.corr(), center=0, annot=True);"
   ]
  },
  {
   "cell_type": "code",
   "execution_count": 392,
   "metadata": {},
   "outputs": [
    {
     "data": {
      "text/html": [
       "<div>\n",
       "<style scoped>\n",
       "    .dataframe tbody tr th:only-of-type {\n",
       "        vertical-align: middle;\n",
       "    }\n",
       "\n",
       "    .dataframe tbody tr th {\n",
       "        vertical-align: top;\n",
       "    }\n",
       "\n",
       "    .dataframe thead th {\n",
       "        text-align: right;\n",
       "    }\n",
       "</style>\n",
       "<table border=\"1\" class=\"dataframe\">\n",
       "  <thead>\n",
       "    <tr style=\"text-align: right;\">\n",
       "      <th></th>\n",
       "      <th>id</th>\n",
       "      <th>date</th>\n",
       "      <th>price</th>\n",
       "      <th>bedrooms</th>\n",
       "      <th>bathrooms</th>\n",
       "      <th>sqft_living</th>\n",
       "      <th>sqft_lot</th>\n",
       "      <th>floors</th>\n",
       "      <th>waterfront</th>\n",
       "      <th>condition</th>\n",
       "      <th>...</th>\n",
       "      <th>sqft_above</th>\n",
       "      <th>sqft_basement</th>\n",
       "      <th>yr_built</th>\n",
       "      <th>yr_renovated</th>\n",
       "      <th>zipcode</th>\n",
       "      <th>lat</th>\n",
       "      <th>long</th>\n",
       "      <th>sqft_living15</th>\n",
       "      <th>sqft_lot15</th>\n",
       "      <th>renovate_15</th>\n",
       "    </tr>\n",
       "  </thead>\n",
       "  <tbody>\n",
       "    <tr>\n",
       "      <th>0</th>\n",
       "      <td>7129300520</td>\n",
       "      <td>10/13/2014</td>\n",
       "      <td>221900.0</td>\n",
       "      <td>3</td>\n",
       "      <td>1.00</td>\n",
       "      <td>1180</td>\n",
       "      <td>5650</td>\n",
       "      <td>1.0</td>\n",
       "      <td>0.0</td>\n",
       "      <td>3</td>\n",
       "      <td>...</td>\n",
       "      <td>1180</td>\n",
       "      <td>0.0</td>\n",
       "      <td>1955</td>\n",
       "      <td>0.0</td>\n",
       "      <td>98178</td>\n",
       "      <td>47.5112</td>\n",
       "      <td>-122.257</td>\n",
       "      <td>1340</td>\n",
       "      <td>5650</td>\n",
       "      <td>0.0</td>\n",
       "    </tr>\n",
       "    <tr>\n",
       "      <th>1</th>\n",
       "      <td>6414100192</td>\n",
       "      <td>12/9/2014</td>\n",
       "      <td>538000.0</td>\n",
       "      <td>3</td>\n",
       "      <td>2.25</td>\n",
       "      <td>2570</td>\n",
       "      <td>7242</td>\n",
       "      <td>2.0</td>\n",
       "      <td>0.0</td>\n",
       "      <td>3</td>\n",
       "      <td>...</td>\n",
       "      <td>2170</td>\n",
       "      <td>400.0</td>\n",
       "      <td>1951</td>\n",
       "      <td>1991.0</td>\n",
       "      <td>98125</td>\n",
       "      <td>47.7210</td>\n",
       "      <td>-122.319</td>\n",
       "      <td>1690</td>\n",
       "      <td>7639</td>\n",
       "      <td>0.0</td>\n",
       "    </tr>\n",
       "    <tr>\n",
       "      <th>2</th>\n",
       "      <td>5631500400</td>\n",
       "      <td>2/25/2015</td>\n",
       "      <td>180000.0</td>\n",
       "      <td>2</td>\n",
       "      <td>1.00</td>\n",
       "      <td>770</td>\n",
       "      <td>10000</td>\n",
       "      <td>1.0</td>\n",
       "      <td>0.0</td>\n",
       "      <td>3</td>\n",
       "      <td>...</td>\n",
       "      <td>770</td>\n",
       "      <td>0.0</td>\n",
       "      <td>1933</td>\n",
       "      <td>0.0</td>\n",
       "      <td>98028</td>\n",
       "      <td>47.7379</td>\n",
       "      <td>-122.233</td>\n",
       "      <td>2720</td>\n",
       "      <td>8062</td>\n",
       "      <td>0.0</td>\n",
       "    </tr>\n",
       "    <tr>\n",
       "      <th>3</th>\n",
       "      <td>2487200875</td>\n",
       "      <td>12/9/2014</td>\n",
       "      <td>604000.0</td>\n",
       "      <td>4</td>\n",
       "      <td>3.00</td>\n",
       "      <td>1960</td>\n",
       "      <td>5000</td>\n",
       "      <td>1.0</td>\n",
       "      <td>0.0</td>\n",
       "      <td>5</td>\n",
       "      <td>...</td>\n",
       "      <td>1050</td>\n",
       "      <td>910.0</td>\n",
       "      <td>1965</td>\n",
       "      <td>0.0</td>\n",
       "      <td>98136</td>\n",
       "      <td>47.5208</td>\n",
       "      <td>-122.393</td>\n",
       "      <td>1360</td>\n",
       "      <td>5000</td>\n",
       "      <td>0.0</td>\n",
       "    </tr>\n",
       "    <tr>\n",
       "      <th>4</th>\n",
       "      <td>1954400510</td>\n",
       "      <td>2/18/2015</td>\n",
       "      <td>510000.0</td>\n",
       "      <td>3</td>\n",
       "      <td>2.00</td>\n",
       "      <td>1680</td>\n",
       "      <td>8080</td>\n",
       "      <td>1.0</td>\n",
       "      <td>0.0</td>\n",
       "      <td>3</td>\n",
       "      <td>...</td>\n",
       "      <td>1680</td>\n",
       "      <td>0.0</td>\n",
       "      <td>1987</td>\n",
       "      <td>0.0</td>\n",
       "      <td>98074</td>\n",
       "      <td>47.6168</td>\n",
       "      <td>-122.045</td>\n",
       "      <td>1800</td>\n",
       "      <td>7503</td>\n",
       "      <td>0.0</td>\n",
       "    </tr>\n",
       "  </tbody>\n",
       "</table>\n",
       "<p>5 rows × 21 columns</p>\n",
       "</div>"
      ],
      "text/plain": [
       "           id        date     price  bedrooms  bathrooms  sqft_living  \\\n",
       "0  7129300520  10/13/2014  221900.0         3       1.00         1180   \n",
       "1  6414100192   12/9/2014  538000.0         3       2.25         2570   \n",
       "2  5631500400   2/25/2015  180000.0         2       1.00          770   \n",
       "3  2487200875   12/9/2014  604000.0         4       3.00         1960   \n",
       "4  1954400510   2/18/2015  510000.0         3       2.00         1680   \n",
       "\n",
       "   sqft_lot  floors  waterfront  condition     ...       sqft_above  \\\n",
       "0      5650     1.0         0.0          3     ...             1180   \n",
       "1      7242     2.0         0.0          3     ...             2170   \n",
       "2     10000     1.0         0.0          3     ...              770   \n",
       "3      5000     1.0         0.0          5     ...             1050   \n",
       "4      8080     1.0         0.0          3     ...             1680   \n",
       "\n",
       "   sqft_basement  yr_built  yr_renovated  zipcode      lat     long  \\\n",
       "0            0.0      1955           0.0    98178  47.5112 -122.257   \n",
       "1          400.0      1951        1991.0    98125  47.7210 -122.319   \n",
       "2            0.0      1933           0.0    98028  47.7379 -122.233   \n",
       "3          910.0      1965           0.0    98136  47.5208 -122.393   \n",
       "4            0.0      1987           0.0    98074  47.6168 -122.045   \n",
       "\n",
       "   sqft_living15  sqft_lot15  renovate_15  \n",
       "0           1340        5650          0.0  \n",
       "1           1690        7639          0.0  \n",
       "2           2720        8062          0.0  \n",
       "3           1360        5000          0.0  \n",
       "4           1800        7503          0.0  \n",
       "\n",
       "[5 rows x 21 columns]"
      ]
     },
     "execution_count": 392,
     "metadata": {},
     "output_type": "execute_result"
    }
   ],
   "source": [
    "df.head()"
   ]
  },
  {
   "cell_type": "code",
   "execution_count": 399,
   "metadata": {},
   "outputs": [
    {
     "data": {
      "text/html": [
       "<div>\n",
       "<style scoped>\n",
       "    .dataframe tbody tr th:only-of-type {\n",
       "        vertical-align: middle;\n",
       "    }\n",
       "\n",
       "    .dataframe tbody tr th {\n",
       "        vertical-align: top;\n",
       "    }\n",
       "\n",
       "    .dataframe thead th {\n",
       "        text-align: right;\n",
       "    }\n",
       "</style>\n",
       "<table border=\"1\" class=\"dataframe\">\n",
       "  <thead>\n",
       "    <tr style=\"text-align: right;\">\n",
       "      <th></th>\n",
       "      <th>price</th>\n",
       "      <th>bathrooms</th>\n",
       "      <th>bedrooms</th>\n",
       "      <th>grade</th>\n",
       "      <th>sqft_above</th>\n",
       "      <th>sqft_basement</th>\n",
       "      <th>sqft_living</th>\n",
       "      <th>sqft_living15</th>\n",
       "      <th>sqft_lot15</th>\n",
       "    </tr>\n",
       "  </thead>\n",
       "  <tbody>\n",
       "    <tr>\n",
       "      <th>0</th>\n",
       "      <td>221900.0</td>\n",
       "      <td>1.00</td>\n",
       "      <td>3</td>\n",
       "      <td>7</td>\n",
       "      <td>1180</td>\n",
       "      <td>0.0</td>\n",
       "      <td>1180</td>\n",
       "      <td>1340</td>\n",
       "      <td>5650</td>\n",
       "    </tr>\n",
       "    <tr>\n",
       "      <th>1</th>\n",
       "      <td>538000.0</td>\n",
       "      <td>2.25</td>\n",
       "      <td>3</td>\n",
       "      <td>7</td>\n",
       "      <td>2170</td>\n",
       "      <td>400.0</td>\n",
       "      <td>2570</td>\n",
       "      <td>1690</td>\n",
       "      <td>7639</td>\n",
       "    </tr>\n",
       "    <tr>\n",
       "      <th>2</th>\n",
       "      <td>180000.0</td>\n",
       "      <td>1.00</td>\n",
       "      <td>2</td>\n",
       "      <td>6</td>\n",
       "      <td>770</td>\n",
       "      <td>0.0</td>\n",
       "      <td>770</td>\n",
       "      <td>2720</td>\n",
       "      <td>8062</td>\n",
       "    </tr>\n",
       "    <tr>\n",
       "      <th>3</th>\n",
       "      <td>604000.0</td>\n",
       "      <td>3.00</td>\n",
       "      <td>4</td>\n",
       "      <td>7</td>\n",
       "      <td>1050</td>\n",
       "      <td>910.0</td>\n",
       "      <td>1960</td>\n",
       "      <td>1360</td>\n",
       "      <td>5000</td>\n",
       "    </tr>\n",
       "    <tr>\n",
       "      <th>4</th>\n",
       "      <td>510000.0</td>\n",
       "      <td>2.00</td>\n",
       "      <td>3</td>\n",
       "      <td>8</td>\n",
       "      <td>1680</td>\n",
       "      <td>0.0</td>\n",
       "      <td>1680</td>\n",
       "      <td>1800</td>\n",
       "      <td>7503</td>\n",
       "    </tr>\n",
       "  </tbody>\n",
       "</table>\n",
       "</div>"
      ],
      "text/plain": [
       "      price  bathrooms  bedrooms  grade  sqft_above  sqft_basement  \\\n",
       "0  221900.0       1.00         3      7        1180            0.0   \n",
       "1  538000.0       2.25         3      7        2170          400.0   \n",
       "2  180000.0       1.00         2      6         770            0.0   \n",
       "3  604000.0       3.00         4      7        1050          910.0   \n",
       "4  510000.0       2.00         3      8        1680            0.0   \n",
       "\n",
       "   sqft_living  sqft_living15  sqft_lot15  \n",
       "0         1180           1340        5650  \n",
       "1         2570           1690        7639  \n",
       "2          770           2720        8062  \n",
       "3         1960           1360        5000  \n",
       "4         1680           1800        7503  "
      ]
     },
     "execution_count": 399,
     "metadata": {},
     "output_type": "execute_result"
    }
   ],
   "source": [
    "df1 = df[['price','bathrooms', 'bedrooms', 'grade', 'sqft_above', 'sqft_basement', \n",
    "              'sqft_living', 'sqft_living15', 'sqft_lot15']]\n",
    "df1.head()"
   ]
  },
  {
   "cell_type": "code",
   "execution_count": 400,
   "metadata": {},
   "outputs": [
    {
     "data": {
      "image/png": "[encoded data removed]",
      "text/plain": [
       "<Figure size 288x288 with 1 Axes>"
      ]
     },
     "metadata": {
      "needs_background": "light"
     },
     "output_type": "display_data"
    }
   ],
   "source": [
    "df1['grade'].hist(figsize=(4,4));"
   ]
  },
  {
   "cell_type": "code",
   "execution_count": 445,
   "metadata": {},
   "outputs": [],
   "source": [
    "#Due to the heteroscadicity in the sqft_living against price regression we will focus on a smaller grade range\n",
    "#but a range that includes the majority of houses in KC as illustrated in the plot above\n",
    "data = df1.loc[(df1['grade'] >= 7) & (df1['grade'] <=10)]"
   ]
  },
  {
   "cell_type": "code",
   "execution_count": 446,
   "metadata": {},
   "outputs": [],
   "source": [
    "#Prepare data for the train_test_split\n",
    "target = data['price']\n",
    "data, data_test, target, target_test = train_test_split(data, target, test_size=0.2, random_state=42)"
   ]
  },
  {
   "cell_type": "code",
   "execution_count": 447,
   "metadata": {},
   "outputs": [
    {
     "name": "stdout",
     "output_type": "stream",
     "text": [
      "(15029,) (3758,)\n"
     ]
    }
   ],
   "source": [
    "print(target.shape, target_test.shape)"
   ]
  },
  {
   "cell_type": "code",
   "execution_count": 448,
   "metadata": {},
   "outputs": [
    {
     "data": {
      "text/html": [
       "<div>\n",
       "<style scoped>\n",
       "    .dataframe tbody tr th:only-of-type {\n",
       "        vertical-align: middle;\n",
       "    }\n",
       "\n",
       "    .dataframe tbody tr th {\n",
       "        vertical-align: top;\n",
       "    }\n",
       "\n",
       "    .dataframe thead th {\n",
       "        text-align: right;\n",
       "    }\n",
       "</style>\n",
       "<table border=\"1\" class=\"dataframe\">\n",
       "  <thead>\n",
       "    <tr style=\"text-align: right;\">\n",
       "      <th></th>\n",
       "      <th>price</th>\n",
       "      <th>bathrooms</th>\n",
       "      <th>bedrooms</th>\n",
       "      <th>grade</th>\n",
       "      <th>sqft_above</th>\n",
       "      <th>sqft_basement</th>\n",
       "      <th>sqft_living</th>\n",
       "      <th>sqft_living15</th>\n",
       "      <th>sqft_lot15</th>\n",
       "    </tr>\n",
       "  </thead>\n",
       "  <tbody>\n",
       "    <tr>\n",
       "      <th>16290</th>\n",
       "      <td>870000.0</td>\n",
       "      <td>0.827824</td>\n",
       "      <td>0.653139</td>\n",
       "      <td>2.460274</td>\n",
       "      <td>2.168664</td>\n",
       "      <td>-0.686035</td>\n",
       "      <td>1.640089</td>\n",
       "      <td>0.751718</td>\n",
       "      <td>0.116539</td>\n",
       "    </tr>\n",
       "    <tr>\n",
       "      <th>4185</th>\n",
       "      <td>1600000.0</td>\n",
       "      <td>0.827824</td>\n",
       "      <td>0.653139</td>\n",
       "      <td>1.350666</td>\n",
       "      <td>0.899506</td>\n",
       "      <td>2.081155</td>\n",
       "      <td>1.984468</td>\n",
       "      <td>1.883371</td>\n",
       "      <td>-0.295915</td>\n",
       "    </tr>\n",
       "    <tr>\n",
       "      <th>11643</th>\n",
       "      <td>550000.0</td>\n",
       "      <td>0.461395</td>\n",
       "      <td>-0.512798</td>\n",
       "      <td>-0.868549</td>\n",
       "      <td>-1.229403</td>\n",
       "      <td>-0.686035</td>\n",
       "      <td>-0.362409</td>\n",
       "      <td>-0.379936</td>\n",
       "      <td>-0.335152</td>\n",
       "    </tr>\n",
       "    <tr>\n",
       "      <th>4966</th>\n",
       "      <td>239000.0</td>\n",
       "      <td>-0.637892</td>\n",
       "      <td>-0.512798</td>\n",
       "      <td>-0.868549</td>\n",
       "      <td>-0.478826</td>\n",
       "      <td>-0.686035</td>\n",
       "      <td>-0.834336</td>\n",
       "      <td>-0.937793</td>\n",
       "      <td>-0.127905</td>\n",
       "    </tr>\n",
       "    <tr>\n",
       "      <th>14513</th>\n",
       "      <td>360000.0</td>\n",
       "      <td>-1.737179</td>\n",
       "      <td>-0.512798</td>\n",
       "      <td>-0.868549</td>\n",
       "      <td>-0.901878</td>\n",
       "      <td>-0.686035</td>\n",
       "      <td>-1.229734</td>\n",
       "      <td>-0.555263</td>\n",
       "      <td>1.523716</td>\n",
       "    </tr>\n",
       "  </tbody>\n",
       "</table>\n",
       "</div>"
      ],
      "text/plain": [
       "           price  bathrooms  bedrooms     grade  sqft_above  sqft_basement  \\\n",
       "16290   870000.0   0.827824  0.653139  2.460274    2.168664      -0.686035   \n",
       "4185   1600000.0   0.827824  0.653139  1.350666    0.899506       2.081155   \n",
       "11643   550000.0   0.461395 -0.512798 -0.868549   -1.229403      -0.686035   \n",
       "4966    239000.0  -0.637892 -0.512798 -0.868549   -0.478826      -0.686035   \n",
       "14513   360000.0  -1.737179 -0.512798 -0.868549   -0.901878      -0.686035   \n",
       "\n",
       "       sqft_living  sqft_living15  sqft_lot15  \n",
       "16290     1.640089       0.751718    0.116539  \n",
       "4185      1.984468       1.883371   -0.295915  \n",
       "11643    -0.362409      -0.379936   -0.335152  \n",
       "4966     -0.834336      -0.937793   -0.127905  \n",
       "14513    -1.229734      -0.555263    1.523716  "
      ]
     },
     "execution_count": 448,
     "metadata": {},
     "output_type": "execute_result"
    }
   ],
   "source": [
    "outcome = 'price'\n",
    "for col in features:\n",
    "    data[col]=(data[col]-data[col].mean())/data[col].std()\n",
    "data.head()"
   ]
  },
  {
   "cell_type": "code",
   "execution_count": 449,
   "metadata": {},
   "outputs": [],
   "source": [
    "from statsmodels.formula.api import ols"
   ]
  },
  {
   "cell_type": "code",
   "execution_count": 450,
   "metadata": {},
   "outputs": [
    {
     "data": {
      "text/html": [
       "<table class=\"simpletable\">\n",
       "<caption>OLS Regression Results</caption>\n",
       "<tr>\n",
       "  <th>Dep. Variable:</th>          <td>price</td>      <th>  R-squared:         </th>  <td>   0.395</td>  \n",
       "</tr>\n",
       "<tr>\n",
       "  <th>Model:</th>                   <td>OLS</td>       <th>  Adj. R-squared:    </th>  <td>   0.395</td>  \n",
       "</tr>\n",
       "<tr>\n",
       "  <th>Method:</th>             <td>Least Squares</td>  <th>  F-statistic:       </th>  <td>   3267.</td>  \n",
       "</tr>\n",
       "<tr>\n",
       "  <th>Date:</th>             <td>Thu, 26 Mar 2020</td> <th>  Prob (F-statistic):</th>   <td>  0.00</td>   \n",
       "</tr>\n",
       "<tr>\n",
       "  <th>Time:</th>                 <td>20:31:03</td>     <th>  Log-Likelihood:    </th> <td>-2.0710e+05</td>\n",
       "</tr>\n",
       "<tr>\n",
       "  <th>No. Observations:</th>      <td> 15029</td>      <th>  AIC:               </th>  <td>4.142e+05</td> \n",
       "</tr>\n",
       "<tr>\n",
       "  <th>Df Residuals:</th>          <td> 15025</td>      <th>  BIC:               </th>  <td>4.142e+05</td> \n",
       "</tr>\n",
       "<tr>\n",
       "  <th>Df Model:</th>              <td>     3</td>      <th>                     </th>      <td> </td>     \n",
       "</tr>\n",
       "<tr>\n",
       "  <th>Covariance Type:</th>      <td>nonrobust</td>    <th>                     </th>      <td> </td>     \n",
       "</tr>\n",
       "</table>\n",
       "<table class=\"simpletable\">\n",
       "<tr>\n",
       "       <td></td>          <th>coef</th>     <th>std err</th>      <th>t</th>      <th>P>|t|</th>  <th>[0.025</th>    <th>0.975]</th>  \n",
       "</tr>\n",
       "<tr>\n",
       "  <th>Intercept</th>   <td> 5.418e+05</td> <td> 1905.379</td> <td>  284.371</td> <td> 0.000</td> <td> 5.38e+05</td> <td> 5.46e+05</td>\n",
       "</tr>\n",
       "<tr>\n",
       "  <th>bathrooms</th>   <td> 5904.7403</td> <td> 2624.302</td> <td>    2.250</td> <td> 0.024</td> <td>  760.789</td> <td>  1.1e+04</td>\n",
       "</tr>\n",
       "<tr>\n",
       "  <th>bedrooms</th>    <td>-3.957e+04</td> <td> 2326.411</td> <td>  -17.011</td> <td> 0.000</td> <td>-4.41e+04</td> <td> -3.5e+04</td>\n",
       "</tr>\n",
       "<tr>\n",
       "  <th>sqft_living</th> <td> 2.041e+05</td> <td> 2821.140</td> <td>   72.357</td> <td> 0.000</td> <td> 1.99e+05</td> <td>  2.1e+05</td>\n",
       "</tr>\n",
       "</table>\n",
       "<table class=\"simpletable\">\n",
       "<tr>\n",
       "  <th>Omnibus:</th>       <td>6770.916</td> <th>  Durbin-Watson:     </th> <td>   2.024</td> \n",
       "</tr>\n",
       "<tr>\n",
       "  <th>Prob(Omnibus):</th>  <td> 0.000</td>  <th>  Jarque-Bera (JB):  </th> <td>62402.273</td>\n",
       "</tr>\n",
       "<tr>\n",
       "  <th>Skew:</th>           <td> 1.937</td>  <th>  Prob(JB):          </th> <td>    0.00</td> \n",
       "</tr>\n",
       "<tr>\n",
       "  <th>Kurtosis:</th>       <td>12.200</td>  <th>  Cond. No.          </th> <td>    2.66</td> \n",
       "</tr>\n",
       "</table><br/><br/>Warnings:<br/>[1] Standard Errors assume that the covariance matrix of the errors is correctly specified."
      ],
      "text/plain": [
       "<class 'statsmodels.iolib.summary.Summary'>\n",
       "\"\"\"\n",
       "                            OLS Regression Results                            \n",
       "==============================================================================\n",
       "Dep. Variable:                  price   R-squared:                       0.395\n",
       "Model:                            OLS   Adj. R-squared:                  0.395\n",
       "Method:                 Least Squares   F-statistic:                     3267.\n",
       "Date:                Thu, 26 Mar 2020   Prob (F-statistic):               0.00\n",
       "Time:                        20:31:03   Log-Likelihood:            -2.0710e+05\n",
       "No. Observations:               15029   AIC:                         4.142e+05\n",
       "Df Residuals:                   15025   BIC:                         4.142e+05\n",
       "Df Model:                           3                                         \n",
       "Covariance Type:            nonrobust                                         \n",
       "===============================================================================\n",
       "                  coef    std err          t      P>|t|      [0.025      0.975]\n",
       "-------------------------------------------------------------------------------\n",
       "Intercept    5.418e+05   1905.379    284.371      0.000    5.38e+05    5.46e+05\n",
       "bathrooms    5904.7403   2624.302      2.250      0.024     760.789     1.1e+04\n",
       "bedrooms    -3.957e+04   2326.411    -17.011      0.000   -4.41e+04    -3.5e+04\n",
       "sqft_living  2.041e+05   2821.140     72.357      0.000    1.99e+05     2.1e+05\n",
       "==============================================================================\n",
       "Omnibus:                     6770.916   Durbin-Watson:                   2.024\n",
       "Prob(Omnibus):                  0.000   Jarque-Bera (JB):            62402.273\n",
       "Skew:                           1.937   Prob(JB):                         0.00\n",
       "Kurtosis:                      12.200   Cond. No.                         2.66\n",
       "==============================================================================\n",
       "\n",
       "Warnings:\n",
       "[1] Standard Errors assume that the covariance matrix of the errors is correctly specified.\n",
       "\"\"\""
      ]
     },
     "execution_count": 450,
     "metadata": {},
     "output_type": "execute_result"
    }
   ],
   "source": [
    "predictors = '+'.join(data[['bathrooms', 'bedrooms', 'sqft_living']])\n",
    "formula = outcome + '~' + predictors\n",
    "model = ols(formula=formula, data=data).fit()\n",
    "model.summary()"
   ]
  },
  {
   "cell_type": "code",
   "execution_count": 451,
   "metadata": {},
   "outputs": [
    {
     "data": {
      "text/html": [
       "<table class=\"simpletable\">\n",
       "<caption>OLS Regression Results</caption>\n",
       "<tr>\n",
       "  <th>Dep. Variable:</th>            <td>y</td>        <th>  R-squared:         </th> <td>   0.395</td> \n",
       "</tr>\n",
       "<tr>\n",
       "  <th>Model:</th>                   <td>OLS</td>       <th>  Adj. R-squared:    </th> <td>   0.395</td> \n",
       "</tr>\n",
       "<tr>\n",
       "  <th>Method:</th>             <td>Least Squares</td>  <th>  F-statistic:       </th> <td>   3267.</td> \n",
       "</tr>\n",
       "<tr>\n",
       "  <th>Date:</th>             <td>Thu, 26 Mar 2020</td> <th>  Prob (F-statistic):</th>  <td>  0.00</td>  \n",
       "</tr>\n",
       "<tr>\n",
       "  <th>Time:</th>                 <td>20:31:03</td>     <th>  Log-Likelihood:    </th> <td> -17552.</td> \n",
       "</tr>\n",
       "<tr>\n",
       "  <th>No. Observations:</th>      <td> 15029</td>      <th>  AIC:               </th> <td>3.511e+04</td>\n",
       "</tr>\n",
       "<tr>\n",
       "  <th>Df Residuals:</th>          <td> 15026</td>      <th>  BIC:               </th> <td>3.513e+04</td>\n",
       "</tr>\n",
       "<tr>\n",
       "  <th>Df Model:</th>              <td>     3</td>      <th>                     </th>     <td> </td>    \n",
       "</tr>\n",
       "<tr>\n",
       "  <th>Covariance Type:</th>      <td>nonrobust</td>    <th>                     </th>     <td> </td>    \n",
       "</tr>\n",
       "</table>\n",
       "<table class=\"simpletable\">\n",
       "<tr>\n",
       "       <td></td>          <th>coef</th>     <th>std err</th>      <th>t</th>      <th>P>|t|</th>  <th>[0.025</th>    <th>0.975]</th>  \n",
       "</tr>\n",
       "<tr>\n",
       "  <th>bathrooms</th>   <td>    0.0197</td> <td>    0.009</td> <td>    2.250</td> <td> 0.024</td> <td>    0.003</td> <td>    0.037</td>\n",
       "</tr>\n",
       "<tr>\n",
       "  <th>bedrooms</th>    <td>   -0.1318</td> <td>    0.008</td> <td>  -17.012</td> <td> 0.000</td> <td>   -0.147</td> <td>   -0.117</td>\n",
       "</tr>\n",
       "<tr>\n",
       "  <th>sqft_living</th> <td>    0.6799</td> <td>    0.009</td> <td>   72.359</td> <td> 0.000</td> <td>    0.662</td> <td>    0.698</td>\n",
       "</tr>\n",
       "</table>\n",
       "<table class=\"simpletable\">\n",
       "<tr>\n",
       "  <th>Omnibus:</th>       <td>6770.916</td> <th>  Durbin-Watson:     </th> <td>   2.024</td> \n",
       "</tr>\n",
       "<tr>\n",
       "  <th>Prob(Omnibus):</th>  <td> 0.000</td>  <th>  Jarque-Bera (JB):  </th> <td>62402.273</td>\n",
       "</tr>\n",
       "<tr>\n",
       "  <th>Skew:</th>           <td> 1.937</td>  <th>  Prob(JB):          </th> <td>    0.00</td> \n",
       "</tr>\n",
       "<tr>\n",
       "  <th>Kurtosis:</th>       <td>12.200</td>  <th>  Cond. No.          </th> <td>    2.66</td> \n",
       "</tr>\n",
       "</table><br/><br/>Warnings:<br/>[1] Standard Errors assume that the covariance matrix of the errors is correctly specified."
      ],
      "text/plain": [
       "<class 'statsmodels.iolib.summary.Summary'>\n",
       "\"\"\"\n",
       "                            OLS Regression Results                            \n",
       "==============================================================================\n",
       "Dep. Variable:                      y   R-squared:                       0.395\n",
       "Model:                            OLS   Adj. R-squared:                  0.395\n",
       "Method:                 Least Squares   F-statistic:                     3267.\n",
       "Date:                Thu, 26 Mar 2020   Prob (F-statistic):               0.00\n",
       "Time:                        20:31:03   Log-Likelihood:                -17552.\n",
       "No. Observations:               15029   AIC:                         3.511e+04\n",
       "Df Residuals:                   15026   BIC:                         3.513e+04\n",
       "Df Model:                           3                                         \n",
       "Covariance Type:            nonrobust                                         \n",
       "===============================================================================\n",
       "                  coef    std err          t      P>|t|      [0.025      0.975]\n",
       "-------------------------------------------------------------------------------\n",
       "bathrooms       0.0197      0.009      2.250      0.024       0.003       0.037\n",
       "bedrooms       -0.1318      0.008    -17.012      0.000      -0.147      -0.117\n",
       "sqft_living     0.6799      0.009     72.359      0.000       0.662       0.698\n",
       "==============================================================================\n",
       "Omnibus:                     6770.916   Durbin-Watson:                   2.024\n",
       "Prob(Omnibus):                  0.000   Jarque-Bera (JB):            62402.273\n",
       "Skew:                           1.937   Prob(JB):                         0.00\n",
       "Kurtosis:                      12.200   Cond. No.                         2.66\n",
       "==============================================================================\n",
       "\n",
       "Warnings:\n",
       "[1] Standard Errors assume that the covariance matrix of the errors is correctly specified.\n",
       "\"\"\""
      ]
     },
     "execution_count": 451,
     "metadata": {},
     "output_type": "execute_result"
    }
   ],
   "source": [
    "z_target = stats.zscore(target)\n",
    "model_standardised_all = sm.OLS(z_target, data[['bathrooms', 'bedrooms', 'sqft_living']])\n",
    "results_standardised_all = model_standardised_all.fit()\n",
    "results_standardised_all.summary()"
   ]
  },
  {
   "cell_type": "code",
   "execution_count": 452,
   "metadata": {},
   "outputs": [
    {
     "data": {
      "image/png": "[encoded data removed]",
      "text/plain": [
       "<Figure size 720x720 with 1 Axes>"
      ]
     },
     "metadata": {
      "needs_background": "light"
     },
     "output_type": "display_data"
    }
   ],
   "source": [
    "fig, ax = plt.subplots(figsize=(10,10))\n",
    "fig = sm.graphics.plot_fit(results_standardised_all, 'sqft_living', ax=ax)"
   ]
  },
  {
   "cell_type": "code",
   "execution_count": null,
   "metadata": {},
   "outputs": [],
   "source": [
    "#So after reviewing various grade ranges, we can see that the grade is not affecting the h/s of sqft_living"
   ]
  },
  {
   "cell_type": "code",
   "execution_count": 453,
   "metadata": {},
   "outputs": [
    {
     "data": {
      "image/png": "[encoded data removed]",
      "text/plain": [
       "<Figure size 720x720 with 1 Axes>"
      ]
     },
     "metadata": {
      "needs_background": "light"
     },
     "output_type": "display_data"
    }
   ],
   "source": [
    "fig, ax = plt.subplots(figsize=(10,10))\n",
    "fig = sm.graphics.plot_fit(results_standardised_all, 'bedrooms', ax=ax)"
   ]
  },
  {
   "cell_type": "code",
   "execution_count": 454,
   "metadata": {},
   "outputs": [],
   "source": [
    "#And neither does the change of grade significantly affect teh fit of the bedrooms predictor. "
   ]
  },
  {
   "cell_type": "code",
   "execution_count": null,
   "metadata": {},
   "outputs": [],
   "source": []
  },
  {
   "cell_type": "code",
   "execution_count": null,
   "metadata": {},
   "outputs": [],
   "source": []
  },
  {
   "cell_type": "code",
   "execution_count": null,
   "metadata": {},
   "outputs": [],
   "source": []
  },
  {
   "cell_type": "code",
   "execution_count": null,
   "metadata": {},
   "outputs": [],
   "source": []
  },
  {
   "cell_type": "code",
   "execution_count": null,
   "metadata": {},
   "outputs": [],
   "source": [
    "#My final test, going back to basics, will be that the size of your house and the area you live in will be a key \n",
    "#predictor of price"
   ]
  }
 ],
 "metadata": {
  "kernelspec": {
   "display_name": "learn-env",
   "language": "python",
   "name": "learn-env"
  },
  "language_info": {
   "codemirror_mode": {
    "name": "ipython",
    "version": 3
   },
   "file_extension": ".py",
   "mimetype": "text/x-python",
   "name": "python",
   "nbconvert_exporter": "python",
   "pygments_lexer": "ipython3",
   "version": "3.6.6"
  }
 },
 "nbformat": 4,
 "nbformat_minor": 2
}
